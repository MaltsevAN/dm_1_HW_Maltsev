{
 "cells": [
  {
   "cell_type": "markdown",
   "metadata": {},
   "source": [
    "**Общая информация**\n",
    "\n",
    "**Срок сдачи:** 13 марта 2017, 06:00 <br\\>\n",
    "**Штраф за опоздание:** -2 балла после 06:00 13 марта, -4 балла после 06:00 20 марта, -6 баллов после 06:00 27 марта\n",
    "\n",
    "При отправлении ДЗ указывайте фамилию в названии файла\n",
    "Присылать ДЗ необходимо в виде ссылки на свой github репозиторий в slack @alkhamush\n",
    "\n",
    "Необходимо в slack создать таск в приватный чат:\n",
    "/todo Фамилия Имя ссылка на гитхаб @alkhamush\n",
    "Пример:\n",
    "/todo Ксения Стройкова https://github.com/stroykova/spheremailru/stroykova_hw1.ipynb @alkhamush\n",
    "\n",
    "Используйте данный Ipython Notebook при оформлении домашнего задания."
   ]
  },
  {
   "cell_type": "markdown",
   "metadata": {},
   "source": [
    "###### Задание 1 (2 баллов)\n",
    "Реализовать KNN в классе MyKNeighborsClassifier (обязательное условие: точность не ниже sklearn реализации)\n",
    "Разберитесь самостоятельно, какая мера расстояния используется в KNeighborsClassifier дефолтно и реализуйте свой алгоритм именно с этой мерой. Самостоятельно разберитесь, как считается score из KNeighborsClassifier и реализуйте аналог в своём классе.\n",
    "\n",
    "###### Задание 2 (2 балла)\n",
    "Добиться скорости работы на fit,  predict и predict_proba сравнимой со sklearn 4 балла для iris и mnist\n",
    "Для этого используем numpy\n",
    "\n",
    "###### Задание 3 (2 балла)\n",
    "Для iris найдите такой параметр n_neighbors, при котором выдаётся наилучший score. Нарисуйте график зависимости score от n_neighbors\n",
    "\n",
    "###### Задание 3 (2 балла)\n",
    "Выполнить требования pep8\n",
    "\n",
    "###### Задание 5 (2 балла)\n",
    "Описать для чего нужны следующие библиотеки/классы/функции (список будет ниже)\n"
   ]
  },
  {
   "cell_type": "code",
   "execution_count": null,
   "metadata": {},
   "outputs": [],
   "source": [
    "import numpy as np\n",
    "import matplotlib.pyplot as plt\n",
    "\n",
    "import seaborn as sns\n",
    "from sklearn import datasets\n",
    "from scipy import stats\n",
    "from scipy.sparse import issparse\n",
    "from sklearn.base import ClassifierMixin\n",
    "from sklearn.datasets import fetch_mldata\n",
    "from sklearn.neighbors.base import NeighborsBase, KNeighborsMixin, SupervisedIntegerMixin \n",
    "from sklearn.model_selection import train_test_split\n",
    "from sklearn.neighbors import KNeighborsClassifier\n",
    "%load_ext pycodestyle_magic"
   ]
  },
  {
   "cell_type": "code",
   "execution_count": null,
   "metadata": {},
   "outputs": [],
   "source": [
    "class MyKNeighborsClassifier(NeighborsBase, KNeighborsMixin,\n",
    "                             SupervisedIntegerMixin, ClassifierMixin):\n",
    "\n",
    "    def __init__(self, n_neighbors=5):\n",
    "        self.n_neighbors = n_neighbors\n",
    "\n",
    "    def my_kneighbors(self, X, n_neighbors=None):\n",
    "        if n_neighbors is None:\n",
    "            n_neighbors = self.n_neighbors\n",
    "        shift = 100\n",
    "        x_dist = (X ** 2).sum(axis=1)\n",
    "        Y = self._fit_X[0: shift, :]\n",
    "        y_dist = (Y ** 2).sum(axis=1)\n",
    "        xy_dist = X.dot(Y.T)\n",
    "        dist = y_dist - 2 * xy_dist + x_dist.reshape(-1, 1)\n",
    "        old_neighbors_ind = np.argsort(np.sqrt(dist), axis=1)[:, :n_neighbors]\n",
    "        start_shift = shift\n",
    "        while (start_shift < self._fit_X.shape[0]):\n",
    "            Y = self._fit_X[start_shift:start_shift + shift, :]\n",
    "            y_dist = (Y ** 2).sum(axis=1)\n",
    "            xy_dist = X.dot(Y.T)\n",
    "            dist = y_dist - 2 * xy_dist + x_dist.reshape(-1, 1)\n",
    "\n",
    "            new_neighbors_ind = np.argsort(np.sqrt(dist), axis=1)[:, :n_neighbors] + start_shift\n",
    "            old_neighbors_ind = np.concatenate((old_neighbors_ind, new_neighbors_ind), axis=1)\n",
    "            start_shift += shift\n",
    "\n",
    "        if (start_shift > shift):\n",
    "            neighbors = np.empty(((X.shape[0], n_neighbors)), dtype=int)\n",
    "            for i, row in enumerate(X):\n",
    "                x_dist = (row ** 2).sum()\n",
    "                Y = self._fit_X[old_neighbors_ind[i], :]\n",
    "                y_dist = (Y ** 2).sum(axis=1)\n",
    "                xy_dist = row.dot(Y.T)\n",
    "                dist = y_dist - 2 * xy_dist + x_dist.reshape(-1, 1)\n",
    "                n = np.argsort(np.sqrt(dist), axis=1)[:, :n_neighbors]\n",
    "\n",
    "                neighbors[i] = old_neighbors_ind[i][n]\n",
    "        else:\n",
    "            neighbors = old_neighbors_ind\n",
    "        return neighbors\n",
    "\n",
    "    def fit(self, X, y):\n",
    "        self.classes_, _ = np.unique(y, return_inverse=True)\n",
    "        self._fit_X = X\n",
    "        self._y = np.array(y, dtype=y.dtype)\n",
    "        return self\n",
    "\n",
    "    def predict(self, X):\n",
    "        neigh_ind = self.my_kneighbors(X)\n",
    "        classes_ = self.classes_\n",
    "        _y = self._y\n",
    "        n_samples = X.shape[0]\n",
    "        y_pred = np.empty(n_samples, dtype=classes_[0].dtype)\n",
    "        mode, _ = stats.mode(_y[neigh_ind], axis=1)\n",
    "        y_pred = mode\n",
    "        return y_pred.ravel()\n",
    "\n",
    "    def predict_proba(self, X):\n",
    "        neigh_ind = self.my_kneighbors(X)\n",
    "        classes_ = self.classes_\n",
    "        _y = self._y\n",
    "        n_samples = X.shape[0]\n",
    "        weights = np.ones_like(neigh_ind, dtype=np.int)\n",
    "        all_rows = np.arange(X.shape[0])\n",
    "        pred_labels = np.array(_y[neigh_ind], dtype=np.int)\n",
    "        proba = np.zeros((n_samples, classes_.size))\n",
    "        for i, idx in enumerate(pred_labels.T):\n",
    "            proba[all_rows, idx] += weights[:, i]\n",
    "        return proba / weights.shape[1]\n",
    "\n",
    "    def score(self, X, y):\n",
    "        y_pred = self.predict(X)\n",
    "        score = y == y_pred\n",
    "        return np.sum(score) / score.shape[0]"
   ]
  },
  {
   "cell_type": "markdown",
   "metadata": {},
   "source": [
    "**IRIS**"
   ]
  },
  {
   "cell_type": "code",
   "execution_count": null,
   "metadata": {},
   "outputs": [],
   "source": [
    "iris = datasets.load_iris()"
   ]
  },
  {
   "cell_type": "code",
   "execution_count": null,
   "metadata": {},
   "outputs": [],
   "source": [
    "X_train, X_test, y_train, y_test = train_test_split(iris.data, iris.target, test_size=0.1, stratify=iris.target)"
   ]
  },
  {
   "cell_type": "code",
   "execution_count": null,
   "metadata": {},
   "outputs": [],
   "source": [
    "clf = KNeighborsClassifier(n_neighbors=2)\n",
    "my_clf = MyKNeighborsClassifier(n_neighbors=2)"
   ]
  },
  {
   "cell_type": "code",
   "execution_count": null,
   "metadata": {},
   "outputs": [],
   "source": [
    "%time clf.fit(X_train, y_train)"
   ]
  },
  {
   "cell_type": "code",
   "execution_count": null,
   "metadata": {},
   "outputs": [],
   "source": [
    "%time my_clf.fit(X_train, y_train)"
   ]
  },
  {
   "cell_type": "code",
   "execution_count": null,
   "metadata": {},
   "outputs": [],
   "source": [
    "%time clf.predict(X_test)"
   ]
  },
  {
   "cell_type": "code",
   "execution_count": null,
   "metadata": {},
   "outputs": [],
   "source": [
    "%time my_clf.predict(X_test)"
   ]
  },
  {
   "cell_type": "code",
   "execution_count": null,
   "metadata": {},
   "outputs": [],
   "source": [
    "%time clf.predict_proba(X_test)"
   ]
  },
  {
   "cell_type": "code",
   "execution_count": null,
   "metadata": {},
   "outputs": [],
   "source": [
    "%time my_clf.predict_proba(X_test)"
   ]
  },
  {
   "cell_type": "code",
   "execution_count": null,
   "metadata": {},
   "outputs": [],
   "source": [
    "clf.score(X_test, y_test)"
   ]
  },
  {
   "cell_type": "code",
   "execution_count": null,
   "metadata": {},
   "outputs": [],
   "source": [
    "my_clf.score(X_test, y_test)"
   ]
  },
  {
   "cell_type": "code",
   "execution_count": null,
   "metadata": {},
   "outputs": [],
   "source": [
    "# Задание 3"
   ]
  },
  {
   "cell_type": "code",
   "execution_count": null,
   "metadata": {},
   "outputs": [],
   "source": [
    "# Построение графика\n",
    "from sklearn.metrics import accuracy_score\n",
    "\n",
    "neighbor = range(1, 125)\n",
    "errors_train = []\n",
    "errors_test = []\n",
    "X_train, X_test, y_train, y_test = train_test_split(iris.data, iris.target, test_size=0.1, stratify=iris.target)\n",
    "for k in neighbor:\n",
    "    my_clf = MyKNeighborsClassifier(n_neighbors=k)\n",
    "    my_clf.fit(X_train, y_train)\n",
    "    predict_test = my_clf.predict(X_test)\n",
    "    predict_train = my_clf.predict(X_train)\n",
    "    errors_train.append(accuracy_score(predict_train, y_train))\n",
    "    errors_test.append(accuracy_score(predict_test, y_test))\n",
    "\n",
    "plt.plot(neighbor, errors_train, color='blue', label='train')\n",
    "plt.plot(neighbor, errors_test, color='red', label='test')\n",
    "plt.legend()"
   ]
  },
  {
   "cell_type": "code",
   "execution_count": null,
   "metadata": {},
   "outputs": [],
   "source": [
    "# нахождение наилучшего k\n",
    "from sklearn.model_selection import GridSearchCV\n",
    "from sklearn.pipeline import make_pipeline\n",
    "from sklearn.preprocessing import StandardScaler\n",
    "\n",
    "param_grid = {\n",
    "    \"mykneighborsclassifier__n_neighbors\": range(1, 125)\n",
    "}\n",
    "\n",
    "reg = make_pipeline(\n",
    "    StandardScaler(),\n",
    "    MyKNeighborsClassifier()\n",
    ")"
   ]
  },
  {
   "cell_type": "markdown",
   "metadata": {},
   "source": [
    "**MNIST**"
   ]
  },
  {
   "cell_type": "code",
   "execution_count": null,
   "metadata": {},
   "outputs": [],
   "source": [
    "mnist = fetch_mldata('MNIST original')"
   ]
  },
  {
   "cell_type": "code",
   "execution_count": null,
   "metadata": {},
   "outputs": [],
   "source": [
    "X_train, X_test, y_train, y_test = train_test_split(mnist.data, mnist.target, test_size=0.1, stratify=mnist.target)"
   ]
  },
  {
   "cell_type": "code",
   "execution_count": null,
   "metadata": {},
   "outputs": [],
   "source": [
    "clf = KNeighborsClassifier(n_neighbors=2)\n",
    "my_clf = MyKNeighborsClassifier(n_neighbors=2)"
   ]
  },
  {
   "cell_type": "code",
   "execution_count": null,
   "metadata": {},
   "outputs": [],
   "source": [
    "%time clf.fit(X_train, y_train)"
   ]
  },
  {
   "cell_type": "code",
   "execution_count": null,
   "metadata": {},
   "outputs": [],
   "source": [
    "%time my_clf.fit(X_train, y_train)"
   ]
  },
  {
   "cell_type": "code",
   "execution_count": null,
   "metadata": {},
   "outputs": [],
   "source": [
    "%time clf.predict(X_test)"
   ]
  },
  {
   "cell_type": "code",
   "execution_count": null,
   "metadata": {},
   "outputs": [],
   "source": [
    "%time my_clf.predict(X_test)"
   ]
  },
  {
   "cell_type": "code",
   "execution_count": null,
   "metadata": {},
   "outputs": [],
   "source": [
    "%time clf.predict_proba(X_test)"
   ]
  },
  {
   "cell_type": "code",
   "execution_count": null,
   "metadata": {},
   "outputs": [],
   "source": [
    "%time my_clf.predict_proba(X_test)"
   ]
  },
  {
   "cell_type": "code",
   "execution_count": null,
   "metadata": {},
   "outputs": [],
   "source": [
    "clf.score(X_test, y_test)"
   ]
  },
  {
   "cell_type": "code",
   "execution_count": null,
   "metadata": {},
   "outputs": [],
   "source": [
    "my_clf.score(X_test, y_test)"
   ]
  },
  {
   "cell_type": "markdown",
   "metadata": {},
   "source": [
    "Задание 5"
   ]
  },
  {
   "cell_type": "code",
   "execution_count": null,
   "metadata": {},
   "outputs": [],
   "source": [
    "# seaborn\n",
    "# Это библиотека визуализации Python на основе matplotlib. \n",
    "# Обеспечивает высокоуровневый интерфейс для рисования  статистических графиков.\n",
    "\n",
    "# matplotlib\n",
    "# библиотека для построения научных графиков(линейных диаграмм, гистограмм, диаграмм разбросаи т.д) в Python\n",
    "\n",
    "# train_test_split\n",
    "# Разделяет np массив на два: train и test, на первом происходит обучение и тестирование на втором соответственно\n",
    "\n",
    "# Pipelin%load_ext e (from sklearn.pipeline import Pipeline)\n",
    "# Класс-контейнер инкапсулирует трансформаторы и предиктора внутри себя,\n",
    "# и предоставляющий единый интерфейс для работы\n",
    "\n",
    "# StandardScaler (from sklearn.preprocessing import StandardScaler)\n",
    "# Класс преобразует данные таким образом, что их распределение будет иметь матожидание 0\n",
    "# и дисперсия 1.\n",
    "\n",
    "# ClassifierMixin\n",
    "# Базовый Класс Mixin для всех классификаторов в scikit-learn,\n",
    "# содержащий метод score(возвращает среднюю точность данных данных)\n",
    "\n",
    "# NeighborsBase \n",
    "# Базовый Класс, для оценки ближайших соседей\n",
    "# \n",
    "# KNeighborsMixin\n",
    "# Базовый Класс Mixin для  для поиска k-соседей\n",
    "\n",
    "# SupervisedIntegerMixin\n",
    "# Базовый Класс Mixin проверяет параметры и вызывает реальную функцию."
   ]
  }
 ],
 "metadata": {
  "kernelspec": {
   "display_name": "Python 3",
   "language": "python",
   "name": "python3"
  },
  "language_info": {
   "codemirror_mode": {
    "name": "ipython",
    "version": 3
   },
   "file_extension": ".py",
   "mimetype": "text/x-python",
   "name": "python",
   "nbconvert_exporter": "python",
   "pygments_lexer": "ipython3",
   "version": "3.6.4"
  }
 },
 "nbformat": 4,
 "nbformat_minor": 2
}
