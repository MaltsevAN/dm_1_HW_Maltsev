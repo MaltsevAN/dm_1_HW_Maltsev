{
 "cells": [
  {
   "cell_type": "markdown",
   "metadata": {},
   "source": [
    "# Алгоритмы интеллектуальной обработки больших объемов данных\n",
    "## Домашнее задание №4 - Метод k-средних, предобработка признаков\n"
   ]
  },
  {
   "cell_type": "markdown",
   "metadata": {},
   "source": [
    "###### <hr\\>\n",
    "**Общая информация**\n",
    "\n",
    "**Срок сдачи:** 25 апреля 2018, 06:00 <br\\>\n",
    "**Штраф за опоздание:** -2 балла после 06:00 25 апреля, -4 баллов после 06:00 2 мая, -6 баллов после 06:00 9 мая\n",
    "\n",
    "При отправлении ДЗ указывайте фамилию в названии файла<br\\>\n",
    "\n",
    "Используйте данный Ipython Notebook при оформлении домашнего задания.\n",
    "\n",
    "**Штрафные баллы:**\n",
    "\n",
    "1. Невыполнение PEP8 -1 балл\n",
    "2. Отсутствие фамилии в имени скрипта (скрипт должен называться по аналогии со stroykova_hw4.ipynb) -1 балл\n",
    "3. Все строчки должны быть выполнены. Нужно, чтобы output команды можно было увидеть уже в git'е. В противном случае -1 балл\n",
    "4. При оформлении ДЗ нужно пользоваться данным файлом в качестве шаблона. Не нужно удалять и видоизменять написанный код и текст. В противном случае -1 балл\n",
    "<hr\\>"
   ]
  },
  {
   "cell_type": "code",
   "execution_count": 1,
   "metadata": {},
   "outputs": [],
   "source": [
    "import pandas as pd\n",
    "import numpy as np\n",
    "import matplotlib.pyplot as plt\n",
    "from sklearn.cluster import KMeans, MiniBatchKMeans\n",
    "\n",
    "%matplotlib inline\n",
    "\n",
    "plt.style.use('ggplot')\n",
    "plt.rcParams['figure.figsize'] = (12,5)\n",
    "\n",
    "%load_ext pycodestyle_magic"
   ]
  },
  {
   "cell_type": "markdown",
   "metadata": {},
   "source": [
    "# Имплементация K-means\n",
    "\n",
    "Пользуясь наработками выше, имплементируйте метод k-means.  \n",
    "При инициализации необходимо задавать количество кластеров, функцию расстояния между кластерами (для оригинального k-means - евклидово расстояние) и начальное состояние генератора случайных чисел.\n",
    "\n",
    "После обучения, среди атрибутов класса `Kmeans` должны появится\n",
    "* Метки кластеров для объектов\n",
    "* Координаты центройдов кластеров\n",
    "\n",
    "k-means - это алгоритм **кластеризации**, а не классификации, а посему метод `.predict()` в нем фактически не нужен, но он может возвращать метки ближайшего кластера для объектов."
   ]
  },
  {
   "cell_type": "markdown",
   "metadata": {},
   "source": [
    "###### Задание 1 (2 баллов)\n",
    "Имплементируйте метод k-means. Задание считается выполненным, если Ваша реализация работает быстрее реализации из sklearn.\n",
    "\n",
    "Теория для выполнения задания 2 и 3 остаётся на самостоятельное изучение. Теории немного и она совсем простая.\n",
    "\n",
    "###### Задание 2 (2 балла)\n",
    "Имплементируйте класс MiniBatchKMeans, который является классом наследником Kmeans.\n",
    "\n",
    "###### Задание 3 (2 балла)\n",
    "Превратите k-means в k-means++. Для этого нужно реализовать метод в классе Kmeans, который будет инициализировать более \"хорошие\" значения центроидов. Чтобы использовался метод k-means++, в параметр init необходимо передать строковое значение 'k-means' (по умолчанию 'random').\n",
    "\n",
    "###### Задание 4 (2 балла)\n",
    "В пункте \"Проверка корректности метода\" нужно нарисовать графики, которые показывают зависимость времени выполнения алгоритма от количества сэмплов. Графики должны быть  нарисованы для различных комбинаций реализаций алгоритма (k-means, k-means++, k-means с MiniBatchKMeans, k-means++ с MiniBatchKMeans). График достаточно построить на 5-10 точках.\n",
    "\n",
    "###### Задание 5 (2 балла)\n",
    "В пункте \"Применение K-means на реальных данных\" нужно сравнить различные реализации k-means (k-means, k-means++, k-means с MiniBatchKMeans, k-means++ с MiniBatchKMeans). После чего написать вывод, в котором должно быть объяснение того, почему один алгоритм оказался лучше остальных или почему не было выявлено лучшего алгоритма."
   ]
  },
  {
   "cell_type": "code",
   "execution_count": 2,
   "metadata": {},
   "outputs": [],
   "source": [
    "#%%pycodestyle\n",
    "class MyKmeans:\n",
    "\n",
    "    def __init__(self, k=2, metric='euclidean', max_iter=1000,\n",
    "                 random_state=None, init='random', n_local_trials=None):\n",
    "        \"\"\"\n",
    "        Инициализация метода\n",
    "        :k - количество кластеров\n",
    "        :metric - функция расстояния между объектами\n",
    "        :max_iter - максиальное количество итераций\n",
    "        :random_state - seed для инициализации генератора случайных чисел\n",
    "        \"\"\"\n",
    "\n",
    "        self.k = k\n",
    "        self.random_state = random_state\n",
    "        self.metric = metric\n",
    "        self.max_iter = max_iter\n",
    "        self.init = init\n",
    "        self.n_local_trials = n_local_trials\n",
    "\n",
    "    def fit(self, X, y=None):\n",
    "        \"\"\"\n",
    "        Процедура обучения k-means\n",
    "        \"\"\"\n",
    "\n",
    "        # Инициализация генератора случайных чисел\n",
    "        np.random.seed(self.random_state)\n",
    "\n",
    "        # Массив с метками кластеров для каждого объекта из X\n",
    "        self.labels = np.empty(X.shape[0])\n",
    "\n",
    "        # Массив с центройдами кластеров\n",
    "        self.centroids = np.empty((self.k, X.shape[1]))\n",
    "\n",
    "        # Флаг, значение которого равно\n",
    "        # новые_центроиды == старым(центроидам определенным на прошлом шаге)\n",
    "        eq_flag = False\n",
    "\n",
    "        # Инициализируем начальное значение центроидов\n",
    "        if (self.init == 'random'):\n",
    "            self.init_random_centroids(X, self.n_local_trials)\n",
    "        elif (self.init == 'k-means++'):\n",
    "            self.init_kmeans_pp_centroids(X, self.n_local_trials)\n",
    "        else:\n",
    "            raise ValueError('unknown init method')\n",
    "\n",
    "        # Осуществляем цикл пока:\n",
    "        #   1 - не достигнем max_iter\n",
    "        #   2 - пока не перестанут изменяться центроиды( eq_flag == True)\n",
    "        for it in range(self.max_iter):\n",
    "\n",
    "            # Отнести каждый объект к ближайшему центру\n",
    "            y = self.euclidean_distance(self.centroids, X)\n",
    "            self.labels = np.argmin(y, axis=0)\n",
    "            # Вычислить новое положение центров\n",
    "            eq_flag = self.update_centroids(X)\n",
    "\n",
    "            # Проверка: изменились ли центроиды\n",
    "            if (eq_flag):\n",
    "                break\n",
    "\n",
    "        return self\n",
    "\n",
    "    def init_random_centroids(self, X, n_local_trials):\n",
    "        # Рандомно выбираем несколько(n_local_trials) раз\n",
    "        # из них берем лучший вариант\n",
    "        if n_local_trials is None:\n",
    "            n_local_trials = 2 + int(np.log(self.k))\n",
    "        seeds = np.random.permutation(X.shape[0])[:self.k]\n",
    "        best_candidate = X[seeds]\n",
    "        best_dist_sq = self.euclidean_distance(best_candidate, X)\n",
    "        best_pot = best_dist_sq.sum()\n",
    "        for trial in range(1, n_local_trials):\n",
    "            seeds = np.random.permutation(X.shape[0])[:self.k]\n",
    "            new_centroids = X[seeds]\n",
    "            new_dist_sq = self.euclidean_distance(new_centroids, X)\n",
    "            new_pot = new_dist_sq.sum()\n",
    "            if (new_pot < best_pot):\n",
    "                best_candidate = new_centroids\n",
    "                best_pot = new_pot\n",
    "                best_dist_sq = new_dist_sq\n",
    "\n",
    "        self.centroids = best_candidate\n",
    "        current_pot = best_pot\n",
    "        closest_dist_sq = best_dist_sq\n",
    "\n",
    "    def init_kmeans_pp_centroids(self, X, n_local_trials):\n",
    "        n_samples, n_features = X.shape\n",
    "        n_clusters = self.k\n",
    "        if n_local_trials is None:\n",
    "            n_local_trials = 2 + int(np.log(n_clusters))\n",
    "        # Выбираем первый центр рандомно\n",
    "        center_id = np.random.randint(n_samples)\n",
    "        self.centroids[0] = X[center_id]\n",
    "\n",
    "        closest_dist_sq = self.euclidean_distance(\n",
    "            self.centroids[0, np.newaxis], X)\n",
    "        current_pot = closest_dist_sq.sum()\n",
    "        for c in range(1, n_clusters):\n",
    "            # Выбираем кандидатов\n",
    "            rand_vals = np.random.random_sample(n_local_trials) * current_pot\n",
    "            candidate_ids = np.searchsorted(np.cumsum(closest_dist_sq),\n",
    "                                            rand_vals)\n",
    "\n",
    "            # Вычисление расстояние кандидатов до центра\n",
    "            distance_to_candidates = self.euclidean_distance(X[candidate_ids],\n",
    "                                                             X)\n",
    "            # Выбор лучшего кандидата\n",
    "            best_candidate = None\n",
    "            best_pot = None\n",
    "            best_dist_sq = None\n",
    "            for trial in range(n_local_trials):\n",
    "                new_dist_sq = np.minimum(closest_dist_sq,\n",
    "                                         distance_to_candidates[trial])\n",
    "                new_pot = new_dist_sq.sum()\n",
    "\n",
    "                if (best_candidate is None) or (new_pot < best_pot):\n",
    "                    best_candidate = candidate_ids[trial]\n",
    "                    best_pot = new_pot\n",
    "                    best_dist_sq = new_dist_sq\n",
    "\n",
    "            self.centroids[c] = X[best_candidate]\n",
    "            current_pot = best_pot\n",
    "            closest_dist_sq = best_dist_sq\n",
    "\n",
    "    def update_centroids(self, X):\n",
    "        new_centroids = np.copy(self.centroids)\n",
    "        for j in range(self.k):\n",
    "            X_tmp = X[[self.labels == j]]\n",
    "            if (X_tmp.size != 0):\n",
    "                new_centroids[j] = np.mean(X_tmp, axis=0)\n",
    "\n",
    "        if ((self.centroids == new_centroids).all()):\n",
    "            return True\n",
    "        else:\n",
    "            self.centroids = new_centroids\n",
    "            return False\n",
    "\n",
    "    @staticmethod\n",
    "    def euclidean_distance(X, Y):\n",
    "        x_dist = (X ** 2).sum(axis=1)\n",
    "        y_dist = (Y ** 2).sum(axis=1)\n",
    "        xy_dist = X.dot(Y.T)\n",
    "        ans = - 2 * xy_dist + y_dist + x_dist.reshape(-1, 1)\n",
    "        return ans\n",
    "\n",
    "    def predict(self, X, y=None):\n",
    "        y = self.euclidean_distance(self.centroids, X)\n",
    "        labels = np.argmin(y, axis=0)\n",
    "        return labels\n",
    "\n",
    "\n",
    "class MyMiniBatchKMeans(MyKmeans):\n",
    "\n",
    "    def __init__(self, k=2, metric='euclidean', max_iter=1000,\n",
    "                 random_state=None, init='random', batch_size=100,\n",
    "                 reassignment_ratio=0.01, n_local_trials=None):\n",
    "        super().__init__(k, metric, max_iter, random_state, init,\n",
    "                         n_local_trials)\n",
    "        self.batch_size = batch_size\n",
    "        self.reassignment_ratio = reassignment_ratio\n",
    "\n",
    "    def fit(self, X):\n",
    "        # Инициализация генератора случайных чисел\n",
    "        np.random.seed(self.random_state)\n",
    "\n",
    "        # Массив с метками кластеров для каждого объекта из X\n",
    "        self.labels = np.empty(X.shape[0]).astype(int)\n",
    "\n",
    "        # Массив с центройдами кластеров\n",
    "        self.centroids = np.empty((self.k, X.shape[1]))\n",
    "\n",
    "        # Your Code Here\n",
    "        if (self.init == 'random'):\n",
    "            self.init_random_centroids(X, self.n_local_trials)\n",
    "        elif (self.init == 'k-means++'):\n",
    "            self.init_kmeans_pp_centroids(X, self.n_local_trials)\n",
    "        else:\n",
    "            raise ValueError('unknown init method')\n",
    "        centroids = np.ones((self.k, X.shape[1]))\n",
    "\n",
    "        # https://algorithmicthoughts.wordpress.com/2013/07/26/machine-learning-mini-batch-k-means/\n",
    "        v = np.zeros(self.k)\n",
    "\n",
    "        for iteration in range(self.max_iter):\n",
    "            seeds = np.random.permutation(X.shape[0])[:self.batch_size]\n",
    "            M = X[seeds]\n",
    "            distances = self.euclidean_distance(self.centroids, M)\n",
    "            self.labels[seeds] = np.argmin(distances, axis=0)\n",
    "            old_centroids = np.copy(self.centroids)\n",
    "            for i, x in enumerate(M):\n",
    "                index = self.labels[seeds[i]].astype(int)\n",
    "                v[index] += 1\n",
    "                eta = 1 / v[index]\n",
    "                self.centroids[index] = (1 - eta) * self.centroids[\n",
    "                    index] + eta * x\n",
    "            if np.linalg.norm(\n",
    "                    old_centroids - self.centroids) < self.reassignment_ratio:\n",
    "                break\n",
    "\n",
    "        return self\n"
   ]
  },
  {
   "cell_type": "markdown",
   "metadata": {},
   "source": [
    "### Проверка корректности метода\n",
    "\n",
    "Перед тем как применять алгоритм на реальных данных, нужно испытать его на простых \"игрушечных\" данных.\n",
    "\n",
    "Если алгоритм реализован правильно, то метод должен идеально разбивать на 3 кластера данные ниже. Проверьте это.\n",
    "\n",
    "ВНИМАНИЕ! Проверка должна быть осуществлена на всех реализациях, иначе реализация не будет зачтена!"
   ]
  },
  {
   "cell_type": "code",
   "execution_count": 3,
   "metadata": {},
   "outputs": [],
   "source": [
    "from sklearn.datasets import make_blobs"
   ]
  },
  {
   "cell_type": "code",
   "execution_count": 4,
   "metadata": {},
   "outputs": [],
   "source": [
    "X, y = make_blobs(n_samples=100, n_features=2, centers=3, cluster_std=1, \n",
    "           center_box=(-10.0, 10.0), shuffle=False, random_state=1234)"
   ]
  },
  {
   "cell_type": "code",
   "execution_count": 5,
   "metadata": {},
   "outputs": [
    {
     "data": {
      "text/plain": [
       "(100, 2)"
      ]
     },
     "execution_count": 5,
     "metadata": {},
     "output_type": "execute_result"
    }
   ],
   "source": [
    "X.shape"
   ]
  },
  {
   "cell_type": "code",
   "execution_count": 6,
   "metadata": {},
   "outputs": [
    {
     "data": {
      "text/plain": [
       "<matplotlib.collections.PathCollection at 0x7fb91713a518>"
      ]
     },
     "execution_count": 6,
     "metadata": {},
     "output_type": "execute_result"
    },
    {
     "data": {
      "image/png": "[encoded data removed]",
      "text/plain": [
       "<matplotlib.figure.Figure at 0x7fb91f8e7d68>"
      ]
     },
     "metadata": {},
     "output_type": "display_data"
    }
   ],
   "source": [
    "plt.scatter(X[:,0], X[:, 1], c=y)"
   ]
  },
  {
   "cell_type": "markdown",
   "metadata": {},
   "source": [
    "Проверьте Вашу имплементацию на простых данных (без этого пункта ДЗ не считается выполненным).   \n",
    "КОММЕНТАРИИ НЕ СТИРАТЬ!"
   ]
  },
  {
   "cell_type": "code",
   "execution_count": 7,
   "metadata": {},
   "outputs": [],
   "source": [
    "def benchmark(algorithm, X):\n",
    "    kmeans = algorithm.fit(X)\n",
    "    labels = algorithm.predict(X)\n",
    "    return kmeans, labels  "
   ]
  },
  {
   "cell_type": "code",
   "execution_count": 8,
   "metadata": {},
   "outputs": [
    {
     "data": {
      "text/plain": [
       "<matplotlib.collections.PathCollection at 0x7fb9170e5a90>"
      ]
     },
     "execution_count": 8,
     "metadata": {},
     "output_type": "execute_result"
    },
    {
     "data": {
      "image/png": "[encoded data removed]",
      "text/plain": [
       "<matplotlib.figure.Figure at 0x7fb91713a7b8>"
      ]
     },
     "metadata": {},
     "output_type": "display_data"
    }
   ],
   "source": [
    "## Работоспособность MyKmeans\n",
    "kmeans, labels = benchmark(MyKmeans(k=3, init='random'), X)\n",
    "plt.scatter(X[:,0], X[:,1], c=labels)"
   ]
  },
  {
   "cell_type": "code",
   "execution_count": 9,
   "metadata": {},
   "outputs": [
    {
     "data": {
      "text/plain": [
       "<matplotlib.collections.PathCollection at 0x7fb917055d30>"
      ]
     },
     "execution_count": 9,
     "metadata": {},
     "output_type": "execute_result"
    },
    {
     "data": {
      "image/png": "[encoded data removed]",
      "text/plain": [
       "<matplotlib.figure.Figure at 0x7fb9170c4a90>"
      ]
     },
     "metadata": {},
     "output_type": "display_data"
    }
   ],
   "source": [
    "## Работоспособность MyKmeans++\n",
    "kmeans, labels = benchmark(MyKmeans(k=3, init='k-means++'), X)\n",
    "plt.scatter(X[:,0], X[:,1], c=labels)"
   ]
  },
  {
   "cell_type": "code",
   "execution_count": 10,
   "metadata": {},
   "outputs": [
    {
     "data": {
      "text/plain": [
       "<matplotlib.collections.PathCollection at 0x7fb916fc0dd8>"
      ]
     },
     "execution_count": 10,
     "metadata": {},
     "output_type": "execute_result"
    },
    {
     "data": {
      "image/png": "[encoded data removed]",
      "text/plain": [
       "<matplotlib.figure.Figure at 0x7fb917068cf8>"
      ]
     },
     "metadata": {},
     "output_type": "display_data"
    }
   ],
   "source": [
    "## Работоспособность MyKmeans с MiniBatchMyKmeans\n",
    "\n",
    "kmeans, labels = benchmark(MyMiniBatchKMeans(k=3, init='random', batch_size=10), X)\n",
    "plt.scatter(X[:,0], X[:,1], c=labels)"
   ]
  },
  {
   "cell_type": "code",
   "execution_count": 11,
   "metadata": {},
   "outputs": [
    {
     "data": {
      "text/plain": [
       "<matplotlib.collections.PathCollection at 0x7fb916fa8da0>"
      ]
     },
     "execution_count": 11,
     "metadata": {},
     "output_type": "execute_result"
    },
    {
     "data": {
      "image/png": "[encoded data removed]",
      "text/plain": [
       "<matplotlib.figure.Figure at 0x7fb916fee320>"
      ]
     },
     "metadata": {},
     "output_type": "display_data"
    }
   ],
   "source": [
    "## Работоспособность MyKmeans++ с MiniBatchMyKmeans\n",
    "\n",
    "kmeans, labels = benchmark(MyMiniBatchKMeans(k=3, init='k-means++', batch_size=10), X)\n",
    "plt.scatter(X[:,0], X[:,1], c=labels)"
   ]
  },
  {
   "cell_type": "code",
   "execution_count": 12,
   "metadata": {},
   "outputs": [
    {
     "name": "stdout",
     "output_type": "stream",
     "text": [
      "20 ms ± 2.15 ms per loop (mean ± std. dev. of 7 runs, 10 loops each)\n"
     ]
    }
   ],
   "source": [
    "## Время выполнения алгоритма Kmeans из sklearn init='random'\n",
    "\n",
    "%timeit benchmark(KMeans(n_clusters=3, init='random', max_iter=1000), X)"
   ]
  },
  {
   "cell_type": "code",
   "execution_count": 13,
   "metadata": {
    "scrolled": true
   },
   "outputs": [
    {
     "name": "stdout",
     "output_type": "stream",
     "text": [
      "24.7 ms ± 1.23 ms per loop (mean ± std. dev. of 7 runs, 10 loops each)\n"
     ]
    }
   ],
   "source": [
    "## Время выполнения алгоритма Kmeans из sklearn init='k-means++'\n",
    "\n",
    "%timeit benchmark(KMeans(n_clusters=3, init='k-means++', max_iter=1000), X)"
   ]
  },
  {
   "cell_type": "code",
   "execution_count": 14,
   "metadata": {},
   "outputs": [
    {
     "name": "stdout",
     "output_type": "stream",
     "text": [
      "27.4 ms ± 5.23 ms per loop (mean ± std. dev. of 7 runs, 10 loops each)\n"
     ]
    }
   ],
   "source": [
    "## Время выполнения алгоритма MiniBatchKMeans из sklearn init='random'\n",
    "\n",
    "%timeit benchmark(MiniBatchKMeans(n_clusters=3, init='random', max_iter=1000, batch_size=10), X)"
   ]
  },
  {
   "cell_type": "code",
   "execution_count": 15,
   "metadata": {},
   "outputs": [
    {
     "name": "stdout",
     "output_type": "stream",
     "text": [
      "29.7 ms ± 4.92 ms per loop (mean ± std. dev. of 7 runs, 10 loops each)\n"
     ]
    }
   ],
   "source": [
    "## Время выполнения алгоритма MiniBatchKMeans из sklearn init='k-means++'\n",
    "\n",
    "%timeit benchmark(MiniBatchKMeans(n_clusters=3, init='k-means++', max_iter=1000, batch_size=10), X)"
   ]
  },
  {
   "cell_type": "code",
   "execution_count": 16,
   "metadata": {},
   "outputs": [
    {
     "name": "stdout",
     "output_type": "stream",
     "text": [
      "1.03 ms ± 91.6 µs per loop (mean ± std. dev. of 7 runs, 1000 loops each)\n"
     ]
    }
   ],
   "source": [
    "## Время выполнения алгоритма MyKmeans\n",
    "\n",
    "%timeit benchmark(MyKmeans(k=3, init='random'), X)"
   ]
  },
  {
   "cell_type": "code",
   "execution_count": 17,
   "metadata": {},
   "outputs": [
    {
     "name": "stdout",
     "output_type": "stream",
     "text": [
      "791 µs ± 63.7 µs per loop (mean ± std. dev. of 7 runs, 1000 loops each)\n"
     ]
    }
   ],
   "source": [
    "## Время выполнения алгоритма MyKmeans++\n",
    "%timeit benchmark(MyKmeans(k=3, init='k-means++'), X)"
   ]
  },
  {
   "cell_type": "code",
   "execution_count": 18,
   "metadata": {},
   "outputs": [
    {
     "name": "stdout",
     "output_type": "stream",
     "text": [
      "14.3 ms ± 1.51 ms per loop (mean ± std. dev. of 7 runs, 10 loops each)\n"
     ]
    }
   ],
   "source": [
    "## Время выполнения алгоритма MyKmeans с MiniBatchMyKmeans\n",
    "%timeit benchmark(MyMiniBatchKMeans(k=3, init='random', batch_size=10), X)"
   ]
  },
  {
   "cell_type": "code",
   "execution_count": 19,
   "metadata": {},
   "outputs": [
    {
     "name": "stdout",
     "output_type": "stream",
     "text": [
      "15.7 ms ± 1.89 ms per loop (mean ± std. dev. of 7 runs, 100 loops each)\n"
     ]
    }
   ],
   "source": [
    "## Время выполнения алгоритма  MyKmeans++ с MiniBatchMyKmeans\n",
    "%timeit benchmark(MyMiniBatchKMeans(k=3, init='k-means++', batch_size=10), X)"
   ]
  },
  {
   "cell_type": "code",
   "execution_count": 21,
   "metadata": {},
   "outputs": [
    {
     "data": {
      "image/png": "[encoded data removed]",
      "text/plain": [
       "<matplotlib.figure.Figure at 0x7fb916666ac8>"
      ]
     },
     "metadata": {},
     "output_type": "display_data"
    }
   ],
   "source": [
    "from timeit import timeit\n",
    "\n",
    "centers = 3\n",
    "n = [10 ** i for i in range(2, 7)]\n",
    "algorithms_labels = ['KMeans_random',\n",
    "                     'KMeans_k-means++',\n",
    "                     'MiniBatchKMeans_random',\n",
    "                     'MiniBatchKMeans_k=means++',\n",
    "                     'MyKMeans_random',\n",
    "                     'My_KMeans_k-means++',\n",
    "                     'MyMiniBatchKMeans_random',\n",
    "                     'MyMiniBatchKMeans_k=means++']\n",
    "algorithm_time = [[0] * len(n) for i in range(len(algs))]\n",
    "algorithms = [KMeans(n_clusters=centers, max_iter=1000),\n",
    "              KMeans(n_clusters=centers, init='k-means++', max_iter=1000),\n",
    "              MiniBatchKMeans(n_clusters=centers, max_iter=1000),\n",
    "              MiniBatchKMeans(n_clusters=centers, init='k-means++',\n",
    "                              max_iter=1000),\n",
    "              MyKmeans(k=centers),\n",
    "              MyKmeans(k=centers, init='k-means++'),\n",
    "              MyMiniBatchKMeans(k=centers),\n",
    "              MyMiniBatchKMeans(k=centers, init='k-means++')]\n",
    "\n",
    "for i, n_samples in enumerate(n):\n",
    "    X, y = make_blobs(n_samples=n_samples, n_features=2, centers=centers,\n",
    "                      cluster_std=1,\n",
    "                      center_box=(-20.0, 20.0), shuffle=False,\n",
    "                      random_state=1234)\n",
    "    for j, algorithm in enumerate(algorithms):\n",
    "        algorithm_time[j][i] = timeit(lambda: benchmark(algorithm, X),\n",
    "                                      number=3)\n",
    "\n",
    "for i, label in enumerate(algorithms_labels):\n",
    "    plt.plot(n, algorithm_time[i], label=label)\n",
    "\n",
    "plt.xlabel('n_samples')\n",
    "plt.ylabel('seconds')\n",
    "plt.legend(bbox_to_anchor=(1.05, 1), loc=2, borderaxespad=0.)\n",
    "plt.show()"
   ]
  },
  {
   "cell_type": "markdown",
   "metadata": {},
   "source": [
    "# Применение K-means на реальных данных"
   ]
  },
  {
   "cell_type": "markdown",
   "metadata": {},
   "source": [
    "Загрузите [данные](https://github.com/brenden17/sklearnlab/blob/master/facebook/snsdata.csv) в которых содержится описание интересов профилей учеников старшей школы США.  (без этого пункта задание не считается выполненным).   \n",
    "ВНИМАНИЕ! Проверка должна быть осуществлена на всех реализациях, иначе реализация не будет зачтена!"
   ]
  },
  {
   "cell_type": "code",
   "execution_count": 22,
   "metadata": {},
   "outputs": [
    {
     "data": {
      "text/html": [
       "<div>\n",
       "<style scoped>\n",
       "    .dataframe tbody tr th:only-of-type {\n",
       "        vertical-align: middle;\n",
       "    }\n",
       "\n",
       "    .dataframe tbody tr th {\n",
       "        vertical-align: top;\n",
       "    }\n",
       "\n",
       "    .dataframe thead th {\n",
       "        text-align: right;\n",
       "    }\n",
       "</style>\n",
       "<table border=\"1\" class=\"dataframe\">\n",
       "  <thead>\n",
       "    <tr style=\"text-align: right;\">\n",
       "      <th></th>\n",
       "      <th>gradyear</th>\n",
       "      <th>gender</th>\n",
       "      <th>age</th>\n",
       "      <th>friends</th>\n",
       "      <th>basketball</th>\n",
       "      <th>football</th>\n",
       "      <th>soccer</th>\n",
       "      <th>softball</th>\n",
       "      <th>volleyball</th>\n",
       "      <th>swimming</th>\n",
       "      <th>...</th>\n",
       "      <th>blonde</th>\n",
       "      <th>mall</th>\n",
       "      <th>shopping</th>\n",
       "      <th>clothes</th>\n",
       "      <th>hollister</th>\n",
       "      <th>abercrombie</th>\n",
       "      <th>die</th>\n",
       "      <th>death</th>\n",
       "      <th>drunk</th>\n",
       "      <th>drugs</th>\n",
       "    </tr>\n",
       "  </thead>\n",
       "  <tbody>\n",
       "    <tr>\n",
       "      <th>0</th>\n",
       "      <td>2006</td>\n",
       "      <td>M</td>\n",
       "      <td>18.982</td>\n",
       "      <td>7</td>\n",
       "      <td>0</td>\n",
       "      <td>0</td>\n",
       "      <td>0</td>\n",
       "      <td>0</td>\n",
       "      <td>0</td>\n",
       "      <td>0</td>\n",
       "      <td>...</td>\n",
       "      <td>0</td>\n",
       "      <td>0</td>\n",
       "      <td>0</td>\n",
       "      <td>0</td>\n",
       "      <td>0</td>\n",
       "      <td>0</td>\n",
       "      <td>0</td>\n",
       "      <td>0</td>\n",
       "      <td>0</td>\n",
       "      <td>0</td>\n",
       "    </tr>\n",
       "    <tr>\n",
       "      <th>1</th>\n",
       "      <td>2006</td>\n",
       "      <td>F</td>\n",
       "      <td>18.801</td>\n",
       "      <td>0</td>\n",
       "      <td>0</td>\n",
       "      <td>1</td>\n",
       "      <td>0</td>\n",
       "      <td>0</td>\n",
       "      <td>0</td>\n",
       "      <td>0</td>\n",
       "      <td>...</td>\n",
       "      <td>0</td>\n",
       "      <td>1</td>\n",
       "      <td>0</td>\n",
       "      <td>0</td>\n",
       "      <td>0</td>\n",
       "      <td>0</td>\n",
       "      <td>0</td>\n",
       "      <td>0</td>\n",
       "      <td>0</td>\n",
       "      <td>0</td>\n",
       "    </tr>\n",
       "    <tr>\n",
       "      <th>2</th>\n",
       "      <td>2006</td>\n",
       "      <td>M</td>\n",
       "      <td>18.335</td>\n",
       "      <td>69</td>\n",
       "      <td>0</td>\n",
       "      <td>1</td>\n",
       "      <td>0</td>\n",
       "      <td>0</td>\n",
       "      <td>0</td>\n",
       "      <td>0</td>\n",
       "      <td>...</td>\n",
       "      <td>0</td>\n",
       "      <td>0</td>\n",
       "      <td>0</td>\n",
       "      <td>0</td>\n",
       "      <td>0</td>\n",
       "      <td>0</td>\n",
       "      <td>0</td>\n",
       "      <td>1</td>\n",
       "      <td>0</td>\n",
       "      <td>0</td>\n",
       "    </tr>\n",
       "    <tr>\n",
       "      <th>3</th>\n",
       "      <td>2006</td>\n",
       "      <td>F</td>\n",
       "      <td>18.875</td>\n",
       "      <td>0</td>\n",
       "      <td>0</td>\n",
       "      <td>0</td>\n",
       "      <td>0</td>\n",
       "      <td>0</td>\n",
       "      <td>0</td>\n",
       "      <td>0</td>\n",
       "      <td>...</td>\n",
       "      <td>0</td>\n",
       "      <td>0</td>\n",
       "      <td>0</td>\n",
       "      <td>0</td>\n",
       "      <td>0</td>\n",
       "      <td>0</td>\n",
       "      <td>0</td>\n",
       "      <td>0</td>\n",
       "      <td>0</td>\n",
       "      <td>0</td>\n",
       "    </tr>\n",
       "    <tr>\n",
       "      <th>4</th>\n",
       "      <td>2006</td>\n",
       "      <td>NaN</td>\n",
       "      <td>18.995</td>\n",
       "      <td>10</td>\n",
       "      <td>0</td>\n",
       "      <td>0</td>\n",
       "      <td>0</td>\n",
       "      <td>0</td>\n",
       "      <td>0</td>\n",
       "      <td>0</td>\n",
       "      <td>...</td>\n",
       "      <td>0</td>\n",
       "      <td>0</td>\n",
       "      <td>2</td>\n",
       "      <td>0</td>\n",
       "      <td>0</td>\n",
       "      <td>0</td>\n",
       "      <td>0</td>\n",
       "      <td>0</td>\n",
       "      <td>1</td>\n",
       "      <td>1</td>\n",
       "    </tr>\n",
       "  </tbody>\n",
       "</table>\n",
       "<p>5 rows × 40 columns</p>\n",
       "</div>"
      ],
      "text/plain": [
       "   gradyear gender     age  friends  basketball  football  soccer  softball  \\\n",
       "0      2006      M  18.982        7           0         0       0         0   \n",
       "1      2006      F  18.801        0           0         1       0         0   \n",
       "2      2006      M  18.335       69           0         1       0         0   \n",
       "3      2006      F  18.875        0           0         0       0         0   \n",
       "4      2006    NaN  18.995       10           0         0       0         0   \n",
       "\n",
       "   volleyball  swimming  ...    blonde  mall  shopping  clothes  hollister  \\\n",
       "0           0         0  ...         0     0         0        0          0   \n",
       "1           0         0  ...         0     1         0        0          0   \n",
       "2           0         0  ...         0     0         0        0          0   \n",
       "3           0         0  ...         0     0         0        0          0   \n",
       "4           0         0  ...         0     0         2        0          0   \n",
       "\n",
       "   abercrombie  die  death  drunk  drugs  \n",
       "0            0    0      0      0      0  \n",
       "1            0    0      0      0      0  \n",
       "2            0    0      1      0      0  \n",
       "3            0    0      0      0      0  \n",
       "4            0    0      0      1      1  \n",
       "\n",
       "[5 rows x 40 columns]"
      ]
     },
     "execution_count": 22,
     "metadata": {},
     "output_type": "execute_result"
    }
   ],
   "source": [
    "df_sns = pd.read_csv('snsdata.csv', sep=',')\n",
    "df_sns.head()"
   ]
  },
  {
   "cell_type": "markdown",
   "metadata": {},
   "source": [
    "Данные устроены так: \n",
    "* Год выпуска\n",
    "* Пол\n",
    "* Возраст\n",
    "* Количество друзей\n",
    "* 36 ключевых слов, которые встречаются в профилe facebook (интересы, сообщества, встречи)"
   ]
  },
  {
   "cell_type": "markdown",
   "metadata": {},
   "source": [
    "* Удалите все признаки кроме 36 ключевых слов.\n",
    "* Нормализуйте данные - из каждого столбца вычтите его среднее значение и поделите на стандартное отклонение.\n",
    "* Используйте метод k-means чтобы выделить 9 кластеров\n",
    "* Попробуйте проинтерпретировать каждый кластер проанализировав полученные центройды (Некоторые кластеры могут быть очень большие и очень маленькие - плохо интерпретируются)   \n",
    "КОММЕНТАРИИ НЕ СТИРАТЬ!"
   ]
  },
  {
   "cell_type": "code",
   "execution_count": 23,
   "metadata": {},
   "outputs": [],
   "source": [
    "X = df_sns.iloc[:, 4:].values\n",
    "X = (X - X.mean(axis=0))/X.std(axis=0)"
   ]
  },
  {
   "cell_type": "code",
   "execution_count": 24,
   "metadata": {},
   "outputs": [],
   "source": [
    "def resault(labels):\n",
    "    df_sns.loc[:, 'label'] = labels\n",
    "    for c, group in df_sns.groupby('label'):\n",
    "        print('Cluster: {}'.format(c))\n",
    "        print('Size: {}'.format(len(group)))\n",
    "        print(group.iloc[:, 4:-1].mean().nlargest(5))\n",
    "        print('=' * 10 + '\\n')\n",
    "    "
   ]
  },
  {
   "cell_type": "code",
   "execution_count": 25,
   "metadata": {},
   "outputs": [
    {
     "name": "stdout",
     "output_type": "stream",
     "text": [
      "CPU times: user 2.15 s, sys: 47.1 ms, total: 2.2 s\n",
      "Wall time: 1.28 s\n",
      "Cluster: 0\n",
      "Size: 730\n",
      "band        4.136986\n",
      "marching    1.445205\n",
      "music       1.230137\n",
      "god         0.531507\n",
      "dance       0.439726\n",
      "dtype: float64\n",
      "==========\n",
      "\n",
      "Cluster: 1\n",
      "Size: 841\n",
      "hollister      1.514863\n",
      "abercrombie    1.172414\n",
      "shopping       0.929845\n",
      "music          0.916766\n",
      "hair           0.908442\n",
      "dtype: float64\n",
      "==========\n",
      "\n",
      "Cluster: 2\n",
      "Size: 18503\n",
      "music       0.540129\n",
      "god         0.314868\n",
      "dance       0.213047\n",
      "hair        0.185754\n",
      "shopping    0.171702\n",
      "dtype: float64\n",
      "==========\n",
      "\n",
      "Cluster: 3\n",
      "Size: 675\n",
      "soccer      4.955556\n",
      "music       0.774815\n",
      "shopping    0.494815\n",
      "god         0.454815\n",
      "hair        0.432593\n",
      "dtype: float64\n",
      "==========\n",
      "\n",
      "Cluster: 4\n",
      "Size: 504\n",
      "god       3.918651\n",
      "jesus     1.652778\n",
      "church    1.468254\n",
      "bible     1.111111\n",
      "music     0.974206\n",
      "dtype: float64\n",
      "==========\n",
      "\n",
      "Cluster: 5\n",
      "Size: 1959\n",
      "swimming    1.447167\n",
      "music       0.806534\n",
      "shopping    0.520163\n",
      "god         0.438999\n",
      "hair        0.375191\n",
      "dtype: float64\n",
      "==========\n",
      "\n",
      "Cluster: 6\n",
      "Size: 3782\n",
      "dance       1.355103\n",
      "music       1.126917\n",
      "cute        1.036489\n",
      "shopping    0.968271\n",
      "hair        0.815442\n",
      "dtype: float64\n",
      "==========\n",
      "\n",
      "Cluster: 7\n",
      "Size: 2093\n",
      "basketball    1.493550\n",
      "softball      1.211180\n",
      "football      1.169613\n",
      "volleyball    0.867176\n",
      "baseball      0.831820\n",
      "dtype: float64\n",
      "==========\n",
      "\n",
      "Cluster: 8\n",
      "Size: 913\n",
      "hair      3.266156\n",
      "sex       2.660460\n",
      "music     2.186199\n",
      "kissed    1.745893\n",
      "die       1.300110\n",
      "dtype: float64\n",
      "==========\n",
      "\n"
     ]
    }
   ],
   "source": [
    "## MyKMeans\n",
    "\n",
    "%time kmeans, labels = benchmark(MyKmeans(k=9, init='random'), X)\n",
    "resault(labels)"
   ]
  },
  {
   "cell_type": "code",
   "execution_count": 26,
   "metadata": {},
   "outputs": [
    {
     "name": "stdout",
     "output_type": "stream",
     "text": [
      "CPU times: user 1.86 s, sys: 32.1 ms, total: 1.89 s\n",
      "Wall time: 1.04 s\n",
      "Cluster: 0\n",
      "Size: 1097\n",
      "dance    3.008204\n",
      "dress    1.530538\n",
      "music    0.989061\n",
      "hair     0.842297\n",
      "cute     0.724704\n",
      "dtype: float64\n",
      "==========\n",
      "\n",
      "Cluster: 1\n",
      "Size: 846\n",
      "hollister      1.508274\n",
      "abercrombie    1.169031\n",
      "shopping       0.921986\n",
      "music          0.895981\n",
      "hair           0.868794\n",
      "dtype: float64\n",
      "==========\n",
      "\n",
      "Cluster: 2\n",
      "Size: 19535\n",
      "music       0.529153\n",
      "god         0.271001\n",
      "dance       0.228411\n",
      "hair        0.181572\n",
      "shopping    0.170873\n",
      "dtype: float64\n",
      "==========\n",
      "\n",
      "Cluster: 3\n",
      "Size: 4280\n",
      "god         1.180607\n",
      "music       1.159112\n",
      "shopping    0.939953\n",
      "church      0.850000\n",
      "cute        0.847196\n",
      "dtype: float64\n",
      "==========\n",
      "\n",
      "Cluster: 4\n",
      "Size: 2378\n",
      "basketball    1.422204\n",
      "football      1.126997\n",
      "softball      1.071068\n",
      "volleyball    0.832212\n",
      "music         0.791001\n",
      "dtype: float64\n",
      "==========\n",
      "\n",
      "Cluster: 5\n",
      "Size: 582\n",
      "band        4.912371\n",
      "marching    1.565292\n",
      "music       1.364261\n",
      "god         0.549828\n",
      "dance       0.469072\n",
      "dtype: float64\n",
      "==========\n",
      "\n",
      "Cluster: 6\n",
      "Size: 585\n",
      "hair      3.723077\n",
      "sex       3.403419\n",
      "music     2.847863\n",
      "kissed    2.536752\n",
      "rock      1.581197\n",
      "dtype: float64\n",
      "==========\n",
      "\n",
      "Cluster: 7\n",
      "Size: 696\n",
      "drunk    1.725575\n",
      "hair     1.416667\n",
      "drugs    0.966954\n",
      "music    0.938218\n",
      "god      0.732759\n",
      "dtype: float64\n",
      "==========\n",
      "\n",
      "Cluster: 8\n",
      "Size: 1\n",
      "blonde    327.0\n",
      "sex        22.0\n",
      "hair       12.0\n",
      "god        10.0\n",
      "die         6.0\n",
      "dtype: float64\n",
      "==========\n",
      "\n"
     ]
    }
   ],
   "source": [
    "## MyKMeans++\n",
    "\n",
    "%time kmeans, labels = benchmark(MyKmeans(k=9, init='k-means++'), X)\n",
    "resault(labels)"
   ]
  },
  {
   "cell_type": "code",
   "execution_count": 27,
   "metadata": {},
   "outputs": [
    {
     "name": "stdout",
     "output_type": "stream",
     "text": [
      "CPU times: user 417 ms, sys: 4.11 ms, total: 421 ms\n",
      "Wall time: 256 ms\n",
      "Cluster: 0\n",
      "Size: 18\n",
      "hair         5.333333\n",
      "clothes      4.611111\n",
      "music        4.444444\n",
      "hollister    3.500000\n",
      "sex          2.444444\n",
      "dtype: float64\n",
      "==========\n",
      "\n",
      "Cluster: 1\n",
      "Size: 542\n",
      "softball      4.492620\n",
      "basketball    0.854244\n",
      "music         0.843173\n",
      "god           0.522140\n",
      "shopping      0.494465\n",
      "dtype: float64\n",
      "==========\n",
      "\n",
      "Cluster: 2\n",
      "Size: 236\n",
      "god       5.775424\n",
      "jesus     3.135593\n",
      "church    2.796610\n",
      "bible     1.279661\n",
      "music     1.118644\n",
      "dtype: float64\n",
      "==========\n",
      "\n",
      "Cluster: 3\n",
      "Size: 2080\n",
      "hair     2.470673\n",
      "music    1.947596\n",
      "sex      1.479808\n",
      "dance    1.297115\n",
      "cute     1.157212\n",
      "dtype: float64\n",
      "==========\n",
      "\n",
      "Cluster: 4\n",
      "Size: 418\n",
      "dress       2.751196\n",
      "dance       0.997608\n",
      "music       0.921053\n",
      "shopping    0.791866\n",
      "hair        0.789474\n",
      "dtype: float64\n",
      "==========\n",
      "\n",
      "Cluster: 5\n",
      "Size: 3335\n",
      "shopping        1.509145\n",
      "music           0.875562\n",
      "dance           0.756222\n",
      "god             0.520840\n",
      "cheerleading    0.515742\n",
      "dtype: float64\n",
      "==========\n",
      "\n",
      "Cluster: 6\n",
      "Size: 788\n",
      "hollister      1.522843\n",
      "abercrombie    1.171320\n",
      "shopping       0.887056\n",
      "music          0.854061\n",
      "hair           0.784264\n",
      "dtype: float64\n",
      "==========\n",
      "\n",
      "Cluster: 7\n",
      "Size: 22215\n",
      "music       0.587081\n",
      "god         0.358542\n",
      "dance       0.274454\n",
      "band        0.247941\n",
      "football    0.204141\n",
      "dtype: float64\n",
      "==========\n",
      "\n",
      "Cluster: 8\n",
      "Size: 368\n",
      "volleyball    4.508152\n",
      "basketball    0.842391\n",
      "music         0.714674\n",
      "shopping      0.597826\n",
      "hair          0.570652\n",
      "dtype: float64\n",
      "==========\n",
      "\n"
     ]
    }
   ],
   "source": [
    "## MyKMeans с MiniBatchMyKMeans\n",
    "\n",
    "%time kmeans, labels = benchmark(MyMiniBatchKMeans(k=9, batch_size= 10), X)\n",
    "resault(labels)"
   ]
  },
  {
   "cell_type": "code",
   "execution_count": 28,
   "metadata": {},
   "outputs": [
    {
     "name": "stdout",
     "output_type": "stream",
     "text": [
      "CPU times: user 448 ms, sys: 8.27 ms, total: 456 ms\n",
      "Wall time: 259 ms\n",
      "Cluster: 0\n",
      "Size: 740\n",
      "hollister      1.481081\n",
      "abercrombie    1.306757\n",
      "shopping       0.920270\n",
      "hair           0.875676\n",
      "music          0.850000\n",
      "dtype: float64\n",
      "==========\n",
      "\n",
      "Cluster: 1\n",
      "Size: 25743\n",
      "music       0.621140\n",
      "god         0.389504\n",
      "dance       0.348483\n",
      "shopping    0.298256\n",
      "cute        0.259177\n",
      "dtype: float64\n",
      "==========\n",
      "\n",
      "Cluster: 2\n",
      "Size: 49\n",
      "cute          5.367347\n",
      "volleyball    2.959184\n",
      "hair          2.836735\n",
      "sexy          2.428571\n",
      "rock          2.326531\n",
      "dtype: float64\n",
      "==========\n",
      "\n",
      "Cluster: 3\n",
      "Size: 244\n",
      "tennis      4.557377\n",
      "music       0.803279\n",
      "god         0.651639\n",
      "band        0.471311\n",
      "shopping    0.467213\n",
      "dtype: float64\n",
      "==========\n",
      "\n",
      "Cluster: 4\n",
      "Size: 1\n",
      "blonde    327.0\n",
      "sex        22.0\n",
      "hair       12.0\n",
      "god        10.0\n",
      "die         6.0\n",
      "dtype: float64\n",
      "==========\n",
      "\n",
      "Cluster: 5\n",
      "Size: 365\n",
      "band        5.709589\n",
      "marching    2.002740\n",
      "music       1.504110\n",
      "god         0.550685\n",
      "dance       0.504110\n",
      "dtype: float64\n",
      "==========\n",
      "\n",
      "Cluster: 6\n",
      "Size: 2144\n",
      "hair     2.308302\n",
      "music    1.896455\n",
      "sex      1.414646\n",
      "god      1.255597\n",
      "dance    1.236474\n",
      "dtype: float64\n",
      "==========\n",
      "\n",
      "Cluster: 7\n",
      "Size: 712\n",
      "baseball      2.436798\n",
      "soccer        1.494382\n",
      "football      1.332865\n",
      "basketball    0.932584\n",
      "music         0.830056\n",
      "dtype: float64\n",
      "==========\n",
      "\n",
      "Cluster: 8\n",
      "Size: 2\n",
      "god       65.5\n",
      "jesus     15.0\n",
      "bible      5.5\n",
      "music      0.5\n",
      "church     0.5\n",
      "dtype: float64\n",
      "==========\n",
      "\n"
     ]
    }
   ],
   "source": [
    "## MyKMeans++ с MiniBatchMyKMeans\n",
    "%time kmeans, labels = benchmark(MyMiniBatchKMeans(k=9, init='k-means++', batch_size=10), X)\n",
    "resault(labels)"
   ]
  },
  {
   "cell_type": "code",
   "execution_count": 29,
   "metadata": {},
   "outputs": [],
   "source": [
    "## Вывод\n",
    "\n",
    "# Делая вывод, можно сказать, что нет лучшей реализации,\n",
    "# все зависит от того, что больше в преоритете: качество/время.\n",
    "# На графике кажется, что минибатч работаете медленнее и мой и стандартный,\n",
    "# но это легко объясняется - необходимо грамотно выбирать параметры для минибатча: размер батча, точность\n",
    "# Наилучшую точность, показывает инициализация k-means++, \n",
    "# но на более менее серьёзных данных сразу заметно различие во времени работы по равнению с random инициализацией\n",
    "# Только благодаря k-means++ у меня получилось выделить из данных данный кластер:\n",
    "# Cluster: 8\n",
    "# Size: 1\n",
    "# blonde    327.0\n",
    "# sex        22.0\n",
    "# hair       12.0\n",
    "# god        10.0\n",
    "# die         6.0\n",
    "# Явно необычный случай в данных, который с помощью minibatch обнаружить не удалось\n",
    "# Поэтому думаю для быстрой оценки больших данных можно пользоваться minibatch,\n",
    "# но для более тонкой работы с данными запускать обычный Kmeans"
   ]
  }
 ],
 "metadata": {
  "anaconda-cloud": {},
  "kernelspec": {
   "display_name": "Python 3",
   "language": "python",
   "name": "python3"
  },
  "language_info": {
   "codemirror_mode": {
    "name": "ipython",
    "version": 3
   },
   "file_extension": ".py",
   "mimetype": "text/x-python",
   "name": "python",
   "nbconvert_exporter": "python",
   "pygments_lexer": "ipython3",
   "version": "3.6.4"
  },
  "nav_menu": {},
  "toc": {
   "navigate_menu": true,
   "number_sections": false,
   "sideBar": true,
   "threshold": 6,
   "toc_cell": false,
   "toc_section_display": "block",
   "toc_window_display": true
  }
 },
 "nbformat": 4,
 "nbformat_minor": 2
}
